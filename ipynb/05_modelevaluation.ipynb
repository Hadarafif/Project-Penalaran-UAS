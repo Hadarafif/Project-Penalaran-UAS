{
 "cells": [
  {
   "cell_type": "code",
   "execution_count": 2,
   "id": "9595a2dd",
   "metadata": {},
   "outputs": [
    {
     "name": "stdout",
     "output_type": "stream",
     "text": [
      "Collecting matplotlib\n",
      "  Downloading matplotlib-3.10.3-cp313-cp313-win_amd64.whl.metadata (11 kB)\n",
      "Collecting seaborn\n",
      "  Downloading seaborn-0.13.2-py3-none-any.whl.metadata (5.4 kB)\n",
      "Collecting contourpy>=1.0.1 (from matplotlib)\n",
      "  Downloading contourpy-1.3.2-cp313-cp313-win_amd64.whl.metadata (5.5 kB)\n",
      "Collecting cycler>=0.10 (from matplotlib)\n",
      "  Downloading cycler-0.12.1-py3-none-any.whl.metadata (3.8 kB)\n",
      "Collecting fonttools>=4.22.0 (from matplotlib)\n",
      "  Downloading fonttools-4.58.4-cp313-cp313-win_amd64.whl.metadata (108 kB)\n",
      "Collecting kiwisolver>=1.3.1 (from matplotlib)\n",
      "  Downloading kiwisolver-1.4.8-cp313-cp313-win_amd64.whl.metadata (6.3 kB)\n",
      "Requirement already satisfied: numpy>=1.23 in c:\\users\\ryzen\\appdata\\local\\programs\\python\\python313\\lib\\site-packages (from matplotlib) (2.3.1)\n",
      "Requirement already satisfied: packaging>=20.0 in c:\\users\\ryzen\\appdata\\roaming\\python\\python313\\site-packages (from matplotlib) (25.0)\n",
      "Collecting pillow>=8 (from matplotlib)\n",
      "  Downloading pillow-11.2.1-cp313-cp313-win_amd64.whl.metadata (9.1 kB)\n",
      "Collecting pyparsing>=2.3.1 (from matplotlib)\n",
      "  Downloading pyparsing-3.2.3-py3-none-any.whl.metadata (5.0 kB)\n",
      "Requirement already satisfied: python-dateutil>=2.7 in c:\\users\\ryzen\\appdata\\roaming\\python\\python313\\site-packages (from matplotlib) (2.9.0.post0)\n",
      "Requirement already satisfied: pandas>=1.2 in c:\\users\\ryzen\\appdata\\local\\programs\\python\\python313\\lib\\site-packages (from seaborn) (2.3.0)\n",
      "Requirement already satisfied: pytz>=2020.1 in c:\\users\\ryzen\\appdata\\local\\programs\\python\\python313\\lib\\site-packages (from pandas>=1.2->seaborn) (2025.2)\n",
      "Requirement already satisfied: tzdata>=2022.7 in c:\\users\\ryzen\\appdata\\local\\programs\\python\\python313\\lib\\site-packages (from pandas>=1.2->seaborn) (2025.2)\n",
      "Requirement already satisfied: six>=1.5 in c:\\users\\ryzen\\appdata\\roaming\\python\\python313\\site-packages (from python-dateutil>=2.7->matplotlib) (1.17.0)\n",
      "Downloading matplotlib-3.10.3-cp313-cp313-win_amd64.whl (8.1 MB)\n",
      "   ---------------------------------------- 0.0/8.1 MB ? eta -:--:--\n",
      "   -------------- ------------------------- 2.9/8.1 MB 18.2 MB/s eta 0:00:01\n",
      "   --------------------------- ------------ 5.5/8.1 MB 14.9 MB/s eta 0:00:01\n",
      "   -------------------------------------- - 7.9/8.1 MB 13.8 MB/s eta 0:00:01\n",
      "   ---------------------------------------- 8.1/8.1 MB 13.3 MB/s eta 0:00:00\n",
      "Downloading seaborn-0.13.2-py3-none-any.whl (294 kB)\n",
      "Downloading contourpy-1.3.2-cp313-cp313-win_amd64.whl (223 kB)\n",
      "Downloading cycler-0.12.1-py3-none-any.whl (8.3 kB)\n",
      "Downloading fonttools-4.58.4-cp313-cp313-win_amd64.whl (2.2 MB)\n",
      "   ---------------------------------------- 0.0/2.2 MB ? eta -:--:--\n",
      "   ---------------------------------------- 2.2/2.2 MB 10.5 MB/s eta 0:00:00\n",
      "Downloading kiwisolver-1.4.8-cp313-cp313-win_amd64.whl (71 kB)\n",
      "Downloading pillow-11.2.1-cp313-cp313-win_amd64.whl (2.7 MB)\n",
      "   ---------------------------------------- 0.0/2.7 MB ? eta -:--:--\n",
      "   ----------------------- ---------------- 1.6/2.7 MB 8.7 MB/s eta 0:00:01\n",
      "   ---------------------------------------- 2.7/2.7 MB 6.4 MB/s eta 0:00:00\n",
      "Downloading pyparsing-3.2.3-py3-none-any.whl (111 kB)\n",
      "Installing collected packages: pyparsing, pillow, kiwisolver, fonttools, cycler, contourpy, matplotlib, seaborn\n",
      "\n",
      "   ----- ---------------------------------- 1/8 [pillow]\n",
      "   ----- ---------------------------------- 1/8 [pillow]\n",
      "   --------------- ------------------------ 3/8 [fonttools]\n",
      "   --------------- ------------------------ 3/8 [fonttools]\n",
      "   --------------- ------------------------ 3/8 [fonttools]\n",
      "   --------------- ------------------------ 3/8 [fonttools]\n",
      "   --------------- ------------------------ 3/8 [fonttools]\n",
      "   --------------- ------------------------ 3/8 [fonttools]\n",
      "   ------------------------------ --------- 6/8 [matplotlib]\n",
      "   ------------------------------ --------- 6/8 [matplotlib]\n",
      "   ------------------------------ --------- 6/8 [matplotlib]\n",
      "   ------------------------------ --------- 6/8 [matplotlib]\n",
      "   ------------------------------ --------- 6/8 [matplotlib]\n",
      "   ------------------------------ --------- 6/8 [matplotlib]\n",
      "   ------------------------------ --------- 6/8 [matplotlib]\n",
      "   ------------------------------ --------- 6/8 [matplotlib]\n",
      "   ------------------------------ --------- 6/8 [matplotlib]\n",
      "   ----------------------------------- ---- 7/8 [seaborn]\n",
      "   ----------------------------------- ---- 7/8 [seaborn]\n",
      "   ---------------------------------------- 8/8 [seaborn]\n",
      "\n",
      "Successfully installed contourpy-1.3.2 cycler-0.12.1 fonttools-4.58.4 kiwisolver-1.4.8 matplotlib-3.10.3 pillow-11.2.1 pyparsing-3.2.3 seaborn-0.13.2\n"
     ]
    },
    {
     "name": "stderr",
     "output_type": "stream",
     "text": [
      "  WARNING: The scripts fonttools.exe, pyftmerge.exe, pyftsubset.exe and ttx.exe are installed in 'c:\\Users\\RYZEN\\AppData\\Local\\Programs\\Python\\Python313\\Scripts' which is not on PATH.\n",
      "  Consider adding this directory to PATH or, if you prefer to suppress this warning, use --no-warn-script-location.\n"
     ]
    }
   ],
   "source": [
    "import sys\n",
    "!{sys.executable} -m pip install matplotlib seaborn\n"
   ]
  },
  {
   "cell_type": "code",
   "execution_count": 3,
   "id": "99ae0bfe",
   "metadata": {},
   "outputs": [],
   "source": [
    "import pandas as pd\n",
    "from pathlib import Path\n",
    "from sklearn.metrics import precision_score, recall_score, f1_score, accuracy_score\n",
    "import matplotlib.pyplot as plt\n",
    "import seaborn as sns"
   ]
  },
  {
   "cell_type": "code",
   "execution_count": 7,
   "id": "13308623",
   "metadata": {},
   "outputs": [],
   "source": [
    "# --- Tambahkan sel baru di atas evaluasi ---\n",
    "\n",
    "import pandas as pd\n",
    "from pathlib import Path\n",
    "\n",
    "BASE = Path(r\"D:/SEMESTER 6/PROJECT CBR\")\n",
    "EVAL = BASE / \"data/eval\"\n",
    "RES = BASE / \"data/results\"\n",
    "EVAL.mkdir(parents=True, exist_ok=True)\n",
    "RES.mkdir(parents=True, exist_ok=True)\n",
    "\n",
    "# Dummy retrieval_eval_triple.csv\n",
    "df_ret = pd.DataFrame({\n",
    "    \"model\": [\"TF-IDF\", \"SVM\", \"BERT\", \"TF-IDF\", \"SVM\", \"BERT\"],\n",
    "    \"precision@5\": [0.8, 0.7, 0.9, 0.75, 0.72, 0.88],\n",
    "    \"recall@5\": [0.6, 0.65, 0.85, 0.62, 0.68, 0.83],\n",
    "    \"f1@5\": [0.68, 0.67, 0.87, 0.69, 0.7, 0.85],\n",
    "    \"accuracy@5\": [0.7, 0.66, 0.88, 0.72, 0.69, 0.86]\n",
    "})\n",
    "df_ret.to_csv(EVAL / \"retrieval_eval_triple.csv\", index=False)\n",
    "\n",
    "# Dummy predictions.csv\n",
    "df_pred = pd.DataFrame({\n",
    "    \"query_id\": [1, 2, 3, 4, 5],\n",
    "    \"predicted_solution\": [\n",
    "        \"Dipidana 2 tahun\",\n",
    "        \"Mengembalikan uang koperasi\",\n",
    "        \"Dijatuhi pidana penjara 5 tahun\",\n",
    "        \"Gugatan tidak diterima\",\n",
    "        \"Dihukum 1 tahun 6 bulan\"\n",
    "    ],\n",
    "    \"method\": [\"TF-IDF\", \"SVM\", \"BERT\", \"TF-IDF\", \"SVM\"]\n",
    "})\n",
    "df_pred.to_csv(RES / \"predictions.csv\", index=False)"
   ]
  },
  {
   "cell_type": "code",
   "execution_count": 8,
   "id": "663effca",
   "metadata": {},
   "outputs": [],
   "source": [
    "# I. Evaluasi Retrieval (TF-IDF, SVM, BERT)\n",
    "# ─────────────────────────────────────────────\n",
    "df_ret = pd.read_csv(retrieval_fp)\n",
    "\n",
    "# Hitung rata-rata per model\n",
    "mean_metrics = df_ret.groupby(\"model\")[[\"precision@5\", \"recall@5\", \"f1@5\", \"accuracy@5\"]].mean().round(3)"
   ]
  },
  {
   "cell_type": "code",
   "execution_count": 9,
   "id": "e2991b8d",
   "metadata": {},
   "outputs": [
    {
     "name": "stdout",
     "output_type": "stream",
     "text": [
      "📊 Rata-rata Metrik Retrieval:\n",
      "        precision@5  recall@5   f1@5  accuracy@5\n",
      "model                                           \n",
      "BERT          0.890     0.840  0.860       0.870\n",
      "SVM           0.710     0.665  0.685       0.675\n",
      "TF-IDF        0.775     0.610  0.685       0.710\n"
     ]
    },
    {
     "data": {
      "text/plain": [
       "<Figure size 1000x600 with 0 Axes>"
      ]
     },
     "metadata": {},
     "output_type": "display_data"
    }
   ],
   "source": [
    "# Simpan ulang metrik ke CSV\n",
    "mean_metrics.to_csv(EVAL / \"retrieval_metrics.csv\")\n",
    "print(\"📊 Rata-rata Metrik Retrieval:\")\n",
    "print(mean_metrics)\n",
    "\n",
    "# Visualisasi Bar Chart\n",
    "plt.figure(figsize=(10, 6))\n",
    "mean_metrics.plot(kind='bar')\n",
    "plt.title(\"Performa Retrieval per Model\")\n",
    "plt.ylabel(\"Score\")\n",
    "plt.xticks(rotation=0)\n",
    "plt.grid(axis='y', linestyle='--')\n",
    "plt.tight_layout()\n",
    "plt.savefig(EVAL / \"retrieval_barplot.png\")\n",
    "plt.close()"
   ]
  },
  {
   "cell_type": "code",
   "execution_count": 11,
   "id": "39db9b4b",
   "metadata": {},
   "outputs": [
    {
     "name": "stdout",
     "output_type": "stream",
     "text": [
      "\n",
      "✅ Akurasi Prediksi Solusi:\n",
      "        accuracy\n",
      "method          \n",
      "BERT         1.0\n",
      "SVM          1.0\n",
      "TF-IDF       1.0\n"
     ]
    }
   ],
   "source": [
    "# Evaluasi Prediksi Solusi\n",
    "df_pred = pd.read_csv(prediction_fp)\n",
    "\n",
    "# Menilai berdasarkan kemiripan string sederhana:\n",
    "def match(a, b):\n",
    "    return int(str(a).strip() == str(b).strip())\n",
    "\n",
    "# Menambahkan ground-truth di sini (simulasi)\n",
    "manual_ground_truth = {\n",
    "    1: \"Dipidana 2 tahun\",\n",
    "    2: \"Mengembalikan uang koperasi\",\n",
    "    3: \"Dijatuhi pidana penjara 5 tahun\",\n",
    "    4: \"Gugatan tidak diterima\",\n",
    "    5: \"Dihukum 1 tahun 6 bulan\"\n",
    "}\n",
    "df_pred[\"true_solution\"] = df_pred[\"query_id\"].map(manual_ground_truth)\n",
    "\n",
    "# Hitung akurasi sederhana (string match)\n",
    "df_pred[\"correct\"] = df_pred.apply(lambda x: match(x[\"predicted_solution\"], x[\"true_solution\"]), axis=1)\n",
    "df_score = df_pred.groupby(\"method\")[\"correct\"].agg([\"sum\", \"count\"])\n",
    "df_score[\"accuracy\"] = (df_score[\"sum\"] / df_score[\"count\"]).round(3)\n",
    "df_score = df_score[[\"accuracy\"]]\n",
    "\n",
    "# Simpan\n",
    "df_score.to_csv(EVAL / \"prediction_metrics.csv\")\n",
    "print(\"\\n✅ Akurasi Prediksi Solusi:\")\n",
    "print(df_score)\n"
   ]
  }
 ],
 "metadata": {
  "kernelspec": {
   "display_name": "Python 3",
   "language": "python",
   "name": "python3"
  },
  "language_info": {
   "codemirror_mode": {
    "name": "ipython",
    "version": 3
   },
   "file_extension": ".py",
   "mimetype": "text/x-python",
   "name": "python",
   "nbconvert_exporter": "python",
   "pygments_lexer": "ipython3",
   "version": "3.13.5"
  }
 },
 "nbformat": 4,
 "nbformat_minor": 5
}
