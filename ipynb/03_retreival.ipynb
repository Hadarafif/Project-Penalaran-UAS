{
 "cells": [
  {
   "cell_type": "code",
   "execution_count": 2,
   "id": "ee6deda5",
   "metadata": {},
   "outputs": [
    {
     "name": "stdout",
     "output_type": "stream",
     "text": [
      "Requirement already satisfied: scikit-learn in c:\\users\\ryzen\\appdata\\local\\programs\\python\\python313\\lib\\site-packages (1.7.0)\n",
      "Requirement already satisfied: numpy>=1.22.0 in c:\\users\\ryzen\\appdata\\local\\programs\\python\\python313\\lib\\site-packages (from scikit-learn) (2.3.1)\n",
      "Requirement already satisfied: scipy>=1.8.0 in c:\\users\\ryzen\\appdata\\local\\programs\\python\\python313\\lib\\site-packages (from scikit-learn) (1.16.0)\n",
      "Requirement already satisfied: joblib>=1.2.0 in c:\\users\\ryzen\\appdata\\local\\programs\\python\\python313\\lib\\site-packages (from scikit-learn) (1.5.1)\n",
      "Requirement already satisfied: threadpoolctl>=3.1.0 in c:\\users\\ryzen\\appdata\\local\\programs\\python\\python313\\lib\\site-packages (from scikit-learn) (3.6.0)\n"
     ]
    }
   ],
   "source": [
    "import sys\n",
    "!{sys.executable} -m pip install scikit-learn\n"
   ]
  },
  {
   "cell_type": "code",
   "execution_count": 3,
   "id": "ca932dcb",
   "metadata": {},
   "outputs": [
    {
     "name": "stdout",
     "output_type": "stream",
     "text": [
      "Requirement already satisfied: transformers in c:\\users\\ryzen\\appdata\\local\\programs\\python\\python313\\lib\\site-packages (4.52.4)\n",
      "Requirement already satisfied: filelock in c:\\users\\ryzen\\appdata\\local\\programs\\python\\python313\\lib\\site-packages (from transformers) (3.18.0)\n",
      "Requirement already satisfied: huggingface-hub<1.0,>=0.30.0 in c:\\users\\ryzen\\appdata\\local\\programs\\python\\python313\\lib\\site-packages (from transformers) (0.33.1)\n",
      "Requirement already satisfied: numpy>=1.17 in c:\\users\\ryzen\\appdata\\local\\programs\\python\\python313\\lib\\site-packages (from transformers) (2.3.1)\n",
      "Requirement already satisfied: packaging>=20.0 in c:\\users\\ryzen\\appdata\\roaming\\python\\python313\\site-packages (from transformers) (25.0)\n",
      "Requirement already satisfied: pyyaml>=5.1 in c:\\users\\ryzen\\appdata\\local\\programs\\python\\python313\\lib\\site-packages (from transformers) (6.0.2)\n",
      "Requirement already satisfied: regex!=2019.12.17 in c:\\users\\ryzen\\appdata\\local\\programs\\python\\python313\\lib\\site-packages (from transformers) (2024.11.6)\n",
      "Requirement already satisfied: requests in c:\\users\\ryzen\\appdata\\local\\programs\\python\\python313\\lib\\site-packages (from transformers) (2.32.4)\n",
      "Requirement already satisfied: tokenizers<0.22,>=0.21 in c:\\users\\ryzen\\appdata\\local\\programs\\python\\python313\\lib\\site-packages (from transformers) (0.21.2)\n",
      "Requirement already satisfied: safetensors>=0.4.3 in c:\\users\\ryzen\\appdata\\local\\programs\\python\\python313\\lib\\site-packages (from transformers) (0.5.3)\n",
      "Requirement already satisfied: tqdm>=4.27 in c:\\users\\ryzen\\appdata\\local\\programs\\python\\python313\\lib\\site-packages (from transformers) (4.67.1)\n",
      "Requirement already satisfied: fsspec>=2023.5.0 in c:\\users\\ryzen\\appdata\\local\\programs\\python\\python313\\lib\\site-packages (from huggingface-hub<1.0,>=0.30.0->transformers) (2025.5.1)\n",
      "Requirement already satisfied: typing-extensions>=3.7.4.3 in c:\\users\\ryzen\\appdata\\local\\programs\\python\\python313\\lib\\site-packages (from huggingface-hub<1.0,>=0.30.0->transformers) (4.14.0)\n",
      "Requirement already satisfied: colorama in c:\\users\\ryzen\\appdata\\roaming\\python\\python313\\site-packages (from tqdm>=4.27->transformers) (0.4.6)\n",
      "Requirement already satisfied: charset_normalizer<4,>=2 in c:\\users\\ryzen\\appdata\\local\\programs\\python\\python313\\lib\\site-packages (from requests->transformers) (3.4.2)\n",
      "Requirement already satisfied: idna<4,>=2.5 in c:\\users\\ryzen\\appdata\\local\\programs\\python\\python313\\lib\\site-packages (from requests->transformers) (3.10)\n",
      "Requirement already satisfied: urllib3<3,>=1.21.1 in c:\\users\\ryzen\\appdata\\local\\programs\\python\\python313\\lib\\site-packages (from requests->transformers) (2.5.0)\n",
      "Requirement already satisfied: certifi>=2017.4.17 in c:\\users\\ryzen\\appdata\\local\\programs\\python\\python313\\lib\\site-packages (from requests->transformers) (2025.6.15)\n"
     ]
    }
   ],
   "source": [
    "import sys\n",
    "!{sys.executable} -m pip install transformers"
   ]
  },
  {
   "cell_type": "code",
   "execution_count": 4,
   "id": "c8e10059",
   "metadata": {},
   "outputs": [
    {
     "name": "stderr",
     "output_type": "stream",
     "text": [
      "c:\\Users\\RYZEN\\AppData\\Local\\Programs\\Python\\Python313\\Lib\\site-packages\\tqdm\\auto.py:21: TqdmWarning: IProgress not found. Please update jupyter and ipywidgets. See https://ipywidgets.readthedocs.io/en/stable/user_install.html\n",
      "  from .autonotebook import tqdm as notebook_tqdm\n"
     ]
    }
   ],
   "source": [
    "import re, json, torch, numpy as np, pandas as pd\n",
    "from pathlib import Path\n",
    "from sklearn.feature_extraction.text import TfidfVectorizer\n",
    "from sklearn.metrics.pairwise import cosine_similarity\n",
    "from sklearn.model_selection import train_test_split\n",
    "from sklearn.svm import LinearSVC\n",
    "from transformers import AutoTokenizer, AutoModel"
   ]
  },
  {
   "cell_type": "code",
   "execution_count": 5,
   "id": "313f0b12",
   "metadata": {},
   "outputs": [],
   "source": [
    "# Persiapan Data\n",
    "BASE = Path(r\"D:/SEMESTER 6/PROJECT CBR\")\n",
    "DATA = BASE / \"data\"\n",
    "PROC = DATA / \"processed\"\n",
    "EVAL = DATA / \"eval\"\n",
    "PROC.mkdir(parents=True, exist_ok=True)\n",
    "EVAL.mkdir(parents=True, exist_ok=True)\n",
    "\n",
    "cases_fp = PROC / \"cases.csv\"\n",
    "df = pd.read_csv(cases_fp)\n",
    "df[\"text_pdf\"] = df[\"text_pdf\"].fillna(\"\").astype(str)"
   ]
  },
  {
   "cell_type": "code",
   "execution_count": 6,
   "id": "7be2dd06",
   "metadata": {},
   "outputs": [],
   "source": [
    "# Clean + Ringkasan\n",
    "def clean_header(t: str) -> str:\n",
    "    t = re.sub(r\"Mahkamah Agung.*?\\n\", \" \", t, flags=re.I|re.S)\n",
    "    t = re.sub(r\"Direktori Putusan.*?\\n\", \" \", t, flags=re.I|re.S)\n",
    "    t = re.sub(r\"Halaman \\d+\\s*\", \" \", t, flags=re.I)\n",
    "    return t\n",
    "\n",
    "def ringkasan_fakta(t: str, n=3) -> str:\n",
    "    kal = [k.strip() for k in re.split(r\"\\.\\s+\", clean_header(str(t))) if len(k.strip()) > 20]\n",
    "    return \". \".join(kal[:n])\n",
    "\n",
    "df[\"ringkasan_fakta\"] = df[\"text_pdf\"].apply(ringkasan_fakta)"
   ]
  },
  {
   "cell_type": "code",
   "execution_count": 7,
   "id": "a9c1050c",
   "metadata": {},
   "outputs": [
    {
     "name": "stdout",
     "output_type": "stream",
     "text": [
      "TF-IDF features: 2542\n"
     ]
    }
   ],
   "source": [
    "# TF-IDF vectorizer (single instance)\n",
    "vectorizer = TfidfVectorizer(\n",
    "    ngram_range=(1, 2),\n",
    "    min_df=1,\n",
    "    max_df=0.95,\n",
    "    token_pattern=r\"(?u)\\b[a-zA-Z]{2,}\\b\"\n",
    ")\n",
    "X_tfidf = vectorizer.fit_transform(df[\"ringkasan_fakta\"])\n",
    "print(\"TF-IDF features:\", X_tfidf.shape[1])"
   ]
  },
  {
   "cell_type": "code",
   "execution_count": 8,
   "id": "5b69082f",
   "metadata": {},
   "outputs": [],
   "source": [
    "# Cosine Retrieval (TF-IDF)\n",
    "def retrieve_cosine(q: str, k=5):\n",
    "    sims = cosine_similarity(vectorizer.transform([q]), X_tfidf).flatten()\n",
    "    top  = sims.argsort()[::-1][:k]\n",
    "    return df.iloc[top][\"case_id\"].tolist()"
   ]
  },
  {
   "cell_type": "code",
   "execution_count": 9,
   "id": "953959bd",
   "metadata": {},
   "outputs": [],
   "source": [
    "# SVM Retrieval (TF-IDF)\n",
    "X_tr, X_te, y_tr, y_te = train_test_split(X_tfidf, df[\"klasifikasi\"], test_size=0.3, random_state=42)\n",
    "svm_clf = LinearSVC().fit(X_tr, y_tr)\n",
    "\n",
    "def retrieve_svm(q: str, k=5):\n",
    "    cls = svm_clf.predict(vectorizer.transform([q]))[0]\n",
    "    sub = df[df[\"klasifikasi\"] == cls]\n",
    "    if sub.empty: return []\n",
    "    sims = cosine_similarity(vectorizer.transform([q]), vectorizer.transform(sub[\"ringkasan_fakta\"])).flatten()\n",
    "    top  = sims.argsort()[::-1][:k]\n",
    "    return sub.iloc[top][\"case_id\"].tolist()"
   ]
  },
  {
   "cell_type": "code",
   "execution_count": 10,
   "id": "2bc278d3",
   "metadata": {},
   "outputs": [
    {
     "name": "stdout",
     "output_type": "stream",
     "text": [
      "⏳ Memuat IndoBERT…\n",
      "🔄 Menghitung embedding dokumen…\n"
     ]
    }
   ],
   "source": [
    "# IndoBERT Embedding\n",
    "print(\"⏳ Memuat IndoBERT…\")\n",
    "tok = AutoTokenizer.from_pretrained(\"indobenchmark/indobert-base-p1\")\n",
    "bert = AutoModel.from_pretrained(\"indobenchmark/indobert-base-p1\").eval()\n",
    "\n",
    "@torch.no_grad()\n",
    "def emb(text: str):\n",
    "    t = tok(text, return_tensors=\"pt\", truncation=True, padding=True, max_length=128)\n",
    "    return bert(**t).last_hidden_state[:, 0, :].squeeze().cpu().numpy()\n",
    "\n",
    "print(\"🔄 Menghitung embedding dokumen…\")\n",
    "doc_emb = np.vstack([emb(t) for t in df[\"ringkasan_fakta\"]])\n",
    "\n",
    "def retrieve_bert(q: str, k=5):\n",
    "    qv   = emb(q)\n",
    "    sims = cosine_similarity([qv], doc_emb).flatten()\n",
    "    top  = sims.argsort()[::-1][:k]\n",
    "    return df.iloc[top][\"case_id\"].tolist()"
   ]
  }
 ],
 "metadata": {
  "kernelspec": {
   "display_name": "Python 3",
   "language": "python",
   "name": "python3"
  },
  "language_info": {
   "codemirror_mode": {
    "name": "ipython",
    "version": 3
   },
   "file_extension": ".py",
   "mimetype": "text/x-python",
   "name": "python",
   "nbconvert_exporter": "python",
   "pygments_lexer": "ipython3",
   "version": "3.13.5"
  }
 },
 "nbformat": 4,
 "nbformat_minor": 5
}
