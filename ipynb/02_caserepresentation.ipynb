{
 "cells": [
  {
   "cell_type": "code",
   "execution_count": 1,
   "id": "2762805d",
   "metadata": {},
   "outputs": [],
   "source": [
    "import json\n",
    "import pandas as pd\n",
    "import re\n",
    "import os\n",
    "from collections import Counter\n",
    "from pathlib import Path"
   ]
  },
  {
   "cell_type": "code",
   "execution_count": 14,
   "id": "b03cc429",
   "metadata": {},
   "outputs": [
    {
     "name": "stderr",
     "output_type": "stream",
     "text": [
      "<>:2: SyntaxWarning: invalid escape sequence '\\S'\n",
      "<>:2: SyntaxWarning: invalid escape sequence '\\S'\n",
      "C:\\Users\\RYZEN\\AppData\\Local\\Temp\\ipykernel_4020\\248806865.py:2: SyntaxWarning: invalid escape sequence '\\S'\n",
      "  df = pd.read_csv(\"D:\\SEMESTER 6\\PROJECT CBR\\putusan_ma__2025-06-25.csv\")\n"
     ]
    }
   ],
   "source": [
    "# Baca data dulu ke dalam df\n",
    "df = pd.read_csv(\"D:\\SEMESTER 6\\PROJECT CBR\\putusan_ma__2025-06-25.csv\") "
   ]
  },
  {
   "cell_type": "code",
   "execution_count": 15,
   "id": "61e901d5",
   "metadata": {},
   "outputs": [
    {
     "name": "stdout",
     "output_type": "stream",
     "text": [
      "Jumlah nilai kosong per kolom:\n",
      "judul                       0\n",
      "nomor                       0\n",
      "tingkat_proses              0\n",
      "klasifikasi                 0\n",
      "kata_kunci                  0\n",
      "tahun                       0\n",
      "tanggal_register            0\n",
      "lembaga_peradilan           0\n",
      "jenis_lembaga_peradilan     0\n",
      "hakim_ketua                 0\n",
      "hakim_anggota               0\n",
      "panitera                    0\n",
      "amar                        0\n",
      "amar_lainnya                0\n",
      "catatan_amar                0\n",
      "tanggal_musyawarah          0\n",
      "tanggal_dibacakan           0\n",
      "kaidah                      0\n",
      "status                     46\n",
      "abstrak                    46\n",
      "link                        0\n",
      "link_pdf                   14\n",
      "file_name_pdf              14\n",
      "text_pdf                   14\n",
      "dtype: int64\n"
     ]
    }
   ],
   "source": [
    "print(\"Jumlah nilai kosong per kolom:\")\n",
    "print(df.isna().sum())\n"
   ]
  },
  {
   "cell_type": "code",
   "execution_count": 16,
   "id": "7bca1d20",
   "metadata": {},
   "outputs": [],
   "source": [
    "# Isi missing value dengan default / placeholder\n",
    "df['amar_lainnya'] = df['amar_lainnya'].fillna(\"-\").astype(str)\n",
    "df['status'] = df['status'].fillna(\"tidak tersedia\").astype(str)\n",
    "df['abstrak'] = df['abstrak'].fillna(\"tidak tersedia\").astype(str)\n",
    "df['link_pdf'] = df['link_pdf'].fillna(\"tidak ada\").astype(str)\n",
    "df['file_name_pdf'] = df['file_name_pdf'].fillna(\"-\").astype(str)"
   ]
  },
  {
   "cell_type": "code",
   "execution_count": 17,
   "id": "4933d537",
   "metadata": {},
   "outputs": [],
   "source": [
    "# Util untuk bersihkan boiler-plate\n",
    "def clean_header(text: str) -> str:\n",
    "    text = str(text)                               # ← konversi pasti string\n",
    "    text = re.sub(r\"Mahkamah Agung.*?\\n\", \" \", text, flags=re.I|re.S)\n",
    "    text = re.sub(r\"Direktori Putusan.*?\\n\", \" \", text, flags=re.I|re.S)\n",
    "    text = re.sub(r\"Halaman \\d+\\s*\", \" \", text, flags=re.I)\n",
    "    return text"
   ]
  },
  {
   "cell_type": "code",
   "execution_count": 18,
   "id": "c2cd7329",
   "metadata": {},
   "outputs": [],
   "source": [
    "def argumen_hukum(teks):\n",
    "    kalimat = [k for k in str(teks).split('. ') if 'pasal' in k.lower()]\n",
    "    return '. '.join(kalimat[:2]).strip()\n",
    "\n",
    "def jumlah_kata(teks):\n",
    "    return len(str(teks).split())\n",
    "\n",
    "def bag_of_words(teks, top_n=5):\n",
    "    words = re.findall(r'\\b\\w+\\b', str(teks).lower())\n",
    "    stop = {'yang','dan','di','ke','dengan','untuk','dari','pada','adalah'}\n",
    "    words = [w for w in words if w not in stop]\n",
    "    return ', '.join([w for w,_ in Counter(words).most_common(top_n)])\n",
    "\n",
    "def qa_pair(fakta, amar):\n",
    "    if not fakta or not amar:\n",
    "        return \"-\"\n",
    "    return f\"Q: Apa yang terjadi dalam kasus ini?\\nA: {fakta}\\n\\n\" \\\n",
    "            f\"Q: Apa hasil putusannya?\\nA: {amar}\""
   ]
  },
  {
   "cell_type": "code",
   "execution_count": 22,
   "id": "5393224e",
   "metadata": {},
   "outputs": [
    {
     "name": "stdout",
     "output_type": "stream",
     "text": [
      "✅ Kolom ringkasan_fakta berhasil dibuat tanpa NaN, file CSV & JSON disimpan.\n"
     ]
    }
   ],
   "source": [
    "cols = [\"case_id\",\"nomor\",\"tanggal_register\",\"klasifikasi\",\"ringkasan_fakta\",\n",
    "        \"argumen_hukum\",\"amar\",\"hakim_ketua\",\"text_pdf\",\"text_length\",\n",
    "        \"bag_of_words\",\"qa_pair\"]\n",
    "\n",
    "Path(r\"D:/SEMESTER 6/PROJECT CBR/data/processed\").mkdir(parents=True, exist_ok=True)\n",
    "# Pastikan semua kolom di 'cols' ada di df, jika belum, buat dengan nilai default\n",
    "for col in cols:\n",
    "        if col not in df.columns:\n",
    "                if col == \"text_length\":\n",
    "                        df[col] = df[\"text_pdf\"].apply(lambda x: len(str(x)) if pd.notna(x) else 0)\n",
    "                elif col == \"ringkasan_fakta\":\n",
    "                        df[col] = df[\"abstrak\"]  # atau isi lain sesuai kebutuhan\n",
    "                elif col == \"argumen_hukum\":\n",
    "                        df[col] = df[\"text_pdf\"].apply(argumen_hukum)\n",
    "                elif col == \"bag_of_words\":\n",
    "                        df[col] = df[\"text_pdf\"].apply(bag_of_words)\n",
    "                elif col == \"qa_pair\":\n",
    "                        df[col] = df.apply(lambda row: qa_pair(row.get(\"ringkasan_fakta\", \"\"), row.get(\"amar\", \"\")), axis=1)\n",
    "                else:\n",
    "                        df[col] = \"-\"\n",
    "\n",
    "df[cols].to_csv(r\"D:/SEMESTER 6/PROJECT CBR/data/processed/cases.csv\", index=False, encoding=\"utf-8\")\n",
    "df[cols].to_json(r\"D:/SEMESTER 6/PROJECT CBR/data/processed/cases.json\",\n",
    "                    orient=\"records\", force_ascii=False, indent=2)\n",
    "\n",
    "print(\"✅ Kolom ringkasan_fakta berhasil dibuat tanpa NaN, file CSV & JSON disimpan.\")"
   ]
  }
 ],
 "metadata": {
  "kernelspec": {
   "display_name": "Python 3",
   "language": "python",
   "name": "python3"
  },
  "language_info": {
   "codemirror_mode": {
    "name": "ipython",
    "version": 3
   },
   "file_extension": ".py",
   "mimetype": "text/x-python",
   "name": "python",
   "nbconvert_exporter": "python",
   "pygments_lexer": "ipython3",
   "version": "3.13.5"
  }
 },
 "nbformat": 4,
 "nbformat_minor": 5
}
